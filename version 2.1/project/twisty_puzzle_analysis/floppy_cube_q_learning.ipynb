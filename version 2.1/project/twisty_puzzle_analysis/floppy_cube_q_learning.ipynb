{
 "cells": [
  {
   "cell_type": "markdown",
   "metadata": {},
   "source": [
    "# Q_Learning for 3x3 Floppy Cube"
   ]
  },
  {
   "cell_type": "code",
   "execution_count": 1,
   "metadata": {},
   "outputs": [],
   "source": [
    "from gui.ai_modules.ai_puzzle_class import puzzle_ai"
   ]
  },
  {
   "cell_type": "code",
   "execution_count": 2,
   "metadata": {
    "tags": []
   },
   "outputs": [
    {
     "name": "stdout",
     "output_type": "stream",
     "text": [
      "final exploration rate: 0.299999999999996\n",
      "CPU times: user 288 ms, sys: 4.07 ms, total: 292 ms\n",
      "Wall time: 289 ms\n"
     ]
    }
   ],
   "source": [
    "actions = {\"f\" : [[20, 18], [4, 7], [16, 2], [27, 23], [17, 3]],\n",
    "           \"r\" : [[2, 9], [7, 0], [18, 26], [1, 8], [23, 21]],\n",
    "           \"b\" : [[26, 24], [21, 29], [9, 6], [0, 12], [11, 10]],\n",
    "           \"l\" : [[16, 6], [12, 4], [15, 5], [27, 29], [20, 24]]}\n",
    "solved_state = [0,0,0,0,0,0,0,1,1,1,0,1,1,0,1,1,1,1,2,2,2,3,3,3,4,4,4,5,5,5]\n",
    "reward_dict={\"solved\":10,\n",
    "            \"timeout\":-1,\n",
    "            \"move\":-0.2}\n",
    "\n",
    "floppy_ai = puzzle_ai(actions, solved_state, reward_dict, name=\"floppy_cube\")\n",
    "\n",
    "%time games = floppy_ai.train_q_learning(\\\n",
    "                learning_rate=0.005,\\\n",
    "                discount_factor=0.999,\\\n",
    "                base_exploration_rate=0.6,\\\n",
    "                max_moves=100,\\\n",
    "                num_episodes=1000,\\\n",
    "                reward_dict=reward_dict)\n",
    "\n",
    "Q_table = floppy_ai.Q_table"
   ]
  },
  {
   "cell_type": "markdown",
   "metadata": {},
   "source": [
    "## Some simple tests:"
   ]
  },
  {
   "cell_type": "code",
   "execution_count": 3,
   "metadata": {},
   "outputs": [],
   "source": [
    "from copy import deepcopy\n",
    "from gui.ai_modules.twisty_puzzle_model import scramble, perform_action\n",
    "\n",
    "def print_scramble(scramble):\n",
    "    print_str = \"\"\n",
    "    for move in scramble:\n",
    "        print_str += move + \" \"\n",
    "    print(print_str[:-1])\n",
    "\n",
    "def test_ai(max_moves=30):\n",
    "    state = deepcopy(solved_state)\n",
    "    test_scramble = scramble(state, actions, max_moves=30)\n",
    "    print(\"scramble:\")\n",
    "    print_scramble(test_scramble)\n",
    "    n = 0\n",
    "    action_hist = \"\"\n",
    "    while n < 500:\n",
    "        action = floppy_ai.choose_Q_action(tuple(state), exploration_rate=0)\n",
    "        # print(f\"action {action} had value {Q_table[(tuple(state), action)]}\" )\n",
    "        perform_action(state, actions[action])\n",
    "        n+=1\n",
    "        action_hist += action + \" \"\n",
    "        status = floppy_ai.puzzle_solved(state, n, 100)\n",
    "        if status == \"timeout\":\n",
    "            print(\"timeout\")\n",
    "            break\n",
    "        if status == \"solved\":\n",
    "            print(\"solved\")\n",
    "            break\n",
    "    action_hist = action_hist[:-1]\n",
    "    print(\"solution:\")\n",
    "    print(action_hist)"
   ]
  },
  {
   "cell_type": "code",
   "execution_count": 4,
   "metadata": {
    "tags": []
   },
   "outputs": [
    {
     "name": "stdout",
     "output_type": "stream",
     "text": [
      "scramble:\n",
      "r l f b r r l l b f b b r l b b f l l r r f r f b r b b r b\n",
      "solved\n",
      "solution:\n",
      "f r\n"
     ]
    }
   ],
   "source": [
    "test_ai()"
   ]
  },
  {
   "cell_type": "code",
   "execution_count": 5,
   "metadata": {
    "tags": []
   },
   "outputs": [
    {
     "name": "stdout",
     "output_type": "stream",
     "text": [
      "768\n"
     ]
    }
   ],
   "source": [
    "print(len(floppy_ai.Q_table))"
   ]
  },
  {
   "cell_type": "markdown",
   "metadata": {},
   "source": [
    "### import not yet working for twisty puzzles"
   ]
  },
  {
   "cell_type": "code",
   "execution_count": 6,
   "metadata": {},
   "outputs": [],
   "source": [
    "def export_Q_table(Q_table, filename=\"Q_table.txt\"):\n",
    "        \"\"\"\n",
    "        write the given Q-table into a file\n",
    "        \"\"\"\n",
    "        with open(filename, \"w\") as file:\n",
    "            file.write(\"{\\n\")\n",
    "            for key, value in Q_table.items():\n",
    "                file.write(str(key) + \":\" + str(value) + \",\\n\")\n",
    "            file.write(\"}\")\n",
    "\n",
    "def import_Q_table(filename=\"Q_table.txt\"):\n",
    "    \"\"\"\n",
    "    import Q_table as dictionary:\n",
    "    keys are state-action pairs as a tuple of a tuple (9 integers: 0/1/2) and an integer (0-8)\n",
    "    values are the corresponding Q-values\n",
    "\n",
    "    Example:\n",
    "        Q_table[((0,0,0,0,1,0,0,0,0),2)] -> 0.3\n",
    "    \"\"\"\n",
    "    Q_table = dict()\n",
    "    with open(filename, \"r\") as file:\n",
    "        for line in file.readlines():\n",
    "            if line == \"Q_table = {\\n\" or line == \"}\":\n",
    "                continue\n",
    "            state_action, value = line[:-2].split(\":\")\n",
    "            state = tuple([int(x.strip(\" \")) for x in state_action[2:-5].split(\",\")])\n",
    "            action = int(state_action[-2])\n",
    "            Q_table[(state, action)] = float(value)\n",
    "    return Q_table"
   ]
  },
  {
   "cell_type": "code",
   "execution_count": 7,
   "metadata": {},
   "outputs": [],
   "source": [
    "export_Q_table(Q_table, filename=\"floppy_q_table.txt\")"
   ]
  }
 ],
 "metadata": {
  "kernelspec": {
   "display_name": "Python 3",
   "language": "python",
   "name": "python3"
  },
  "language_info": {
   "codemirror_mode": {
    "name": "ipython",
    "version": 3
   },
   "file_extension": ".py",
   "mimetype": "text/x-python",
   "name": "python",
   "nbconvert_exporter": "python",
   "pygments_lexer": "ipython3",
   "version": "3.8.5"
  }
 },
 "nbformat": 4,
 "nbformat_minor": 2
}
