{
 "cells": [
  {
   "cell_type": "code",
   "execution_count": 2,
   "metadata": {},
   "outputs": [],
   "source": [
    "from sympy.combinatorics import Permutation"
   ]
  },
  {
   "cell_type": "code",
   "execution_count": 4,
   "metadata": {},
   "outputs": [],
   "source": [
    "def perform_action(state, action):\n",
    "    \"\"\"\n",
    "    perform the given action on the given state in-place\n",
    "    for twisty puzzles this means applying the permutations of a move\n",
    "\n",
    "    inputs:\n",
    "    -------\n",
    "        state - (list) of (int) - list representing the state\n",
    "        action - (list) of (list) of (int) - list representing an action, here as a list of cycles\n",
    "            cycles are lists of list indices of the state list.\n",
    "    \"\"\"\n",
    "    for cycle in action: # loop over all cycles in the move\n",
    "        j = cycle[0]\n",
    "        for i in cycle:  # apply cycle\n",
    "            state[i], state[j] = state[j], state[i]\n",
    "    return state"
   ]
  },
  {
   "cell_type": "code",
   "execution_count": 9,
   "metadata": {},
   "outputs": [],
   "source": [
    "def test_my_perm(state, perm):\n",
    "    state = perform_action(state, perm)\n",
    "\n",
    "def test_sp_perm(state, perm):\n",
    "    state = perm(state)"
   ]
  },
  {
   "cell_type": "code",
   "execution_count": 18,
   "metadata": {},
   "outputs": [],
   "source": [
    "perm1 = [[1,2,3], [4,5,0]]\n",
    "perm1_sp = Permutation(perm1)\n",
    "perm2 = [[1,2], [3,4,5,0], [6,7,8,9,10,11], [12,13], [14,15,16], [17,18,19,20,21,22,23,24]]\n",
    "perm2_sp = Permutation(perm2)"
   ]
  },
  {
   "cell_type": "code",
   "execution_count": 20,
   "metadata": {},
   "outputs": [
    {
     "name": "stdout",
     "output_type": "stream",
     "text": [
      "2.29 µs ± 148 ns per loop (mean ± std. dev. of 7 runs, 100000 loops each)\n",
      "3.48 µs ± 223 ns per loop (mean ± std. dev. of 7 runs, 100000 loops each)\n"
     ]
    }
   ],
   "source": [
    "n = 25\n",
    "state = list(range(n))\n",
    "%timeit test_my_perm(state, perm2)\n",
    "state = list(range(n))\n",
    "%timeit test_sp_perm(state,perm2_sp)"
   ]
  },
  {
   "cell_type": "code",
   "execution_count": null,
   "metadata": {},
   "outputs": [],
   "source": []
  }
 ],
 "metadata": {
  "interpreter": {
   "hash": "3e4985cd88b3a56a52b003f0882d181d8cd7ec7ac144250e5d6b471c317680e4"
  },
  "kernelspec": {
   "display_name": "Python 3",
   "language": "python",
   "name": "python3"
  },
  "language_info": {
   "codemirror_mode": {
    "name": "ipython",
    "version": 3
   },
   "file_extension": ".py",
   "mimetype": "text/x-python",
   "name": "python",
   "nbconvert_exporter": "python",
   "pygments_lexer": "ipython3",
   "version": "3.7.3"
  }
 },
 "nbformat": 4,
 "nbformat_minor": 2
}
