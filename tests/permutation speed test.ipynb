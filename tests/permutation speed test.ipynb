{
 "cells": [
  {
   "cell_type": "code",
   "execution_count": 1,
   "metadata": {},
   "outputs": [],
   "source": [
    "from sympy.combinatorics import Permutation\n",
    "import numpy as np\n",
    "import scipy.sparse as scpy"
   ]
  },
  {
   "cell_type": "code",
   "execution_count": 6,
   "metadata": {},
   "outputs": [],
   "source": [
    "def perform_action(state, action):\n",
    "    \"\"\"\n",
    "    perform the given action on the given state in-place\n",
    "    for twisty puzzles this means applying the permutations of a move\n",
    "\n",
    "    inputs:\n",
    "    -------\n",
    "        state - (list) of (int) - list representing the state\n",
    "        action - (list) of (list) of (int) - list representing an action, here as a list of cycles\n",
    "            cycles are lists of list indices of the state list.\n",
    "    \"\"\"\n",
    "    for cycle in action: # loop over all cycles in the move\n",
    "        j = cycle[0]\n",
    "        for i in cycle:  # apply cycle\n",
    "            state[i], state[j] = state[j], state[i]\n",
    "    return state"
   ]
  },
  {
   "cell_type": "code",
   "execution_count": 28,
   "metadata": {},
   "outputs": [],
   "source": [
    "def np_perm(state: np.ndarray, action: list[np.ndarray]):\n",
    "    \"\"\"\n",
    "    \"\"\"\n",
    "    for cycle in action:\n",
    "        state[cycle[0]] = state[cycle[-1]]\n",
    "        state[cycle[1:]] = state[cycle[:-1]]\n",
    "    return state\n",
    "\n",
    "def list_to_arrays(state, action):\n",
    "    \"\"\"\n",
    "    \"\"\"\n",
    "    state = np.array(state, dtype=np.int16)\n",
    "    action = [np.array(cycle, dtype=np.int16) for cycle in action]\n",
    "    return state, action"
   ]
  },
  {
   "cell_type": "code",
   "execution_count": 24,
   "metadata": {},
   "outputs": [],
   "source": [
    "def non_cycle_np_perm(state: np.ndarray, action: list[np.ndarray]):\n",
    "    # Create an array that maps the original indices to their new positions\n",
    "    mapping = np.arange(state.size)\n",
    "    \n",
    "    # Apply the permutation for each cycle\n",
    "    for cycle in action:\n",
    "        mapping[cycle] = np.roll(cycle, -1)\n",
    "    return mapping"
   ]
  },
  {
   "cell_type": "code",
   "execution_count": 32,
   "metadata": {},
   "outputs": [],
   "source": [
    "def non_id_cycle_np_perm(state: np.ndarray, action: list[np.ndarray]):\n",
    "    # Create an array that maps the original indices to their new positions\n",
    "    mapping = np.arange(state.size)\n",
    "    \n",
    "    # Apply the permutation for each cycle\n",
    "    for cycle in action:\n",
    "        if cycle.size > 1:\n",
    "            mapping[cycle] = np.roll(cycle, -1)\n",
    "    non_identity_indices = np.where(mapping != np.arange(state.size))[0]\n",
    "    return mapping[non_identity_indices]"
   ]
  },
  {
   "cell_type": "code",
   "execution_count": 33,
   "metadata": {},
   "outputs": [],
   "source": [
    "def get_perm_matrix(perm, n):\n",
    "    \"\"\"\n",
    "    convert a permutation in cyclic notation into a permutation matrix, such that M@s = perm(s)\n",
    "    inputs:\n",
    "        perm - (list) of (tuple) of (int) - permutation in cyclic notation\n",
    "        n - (int) - number of elements in permutation\n",
    "    returns:\n",
    "        (np.array) - permutation matrix\n",
    "    \"\"\"\n",
    "    M = np.eye(n, dtype=np.bool_)\n",
    "    # M = np.eye(n, dtype=np.uint8)\n",
    "    for cycle in perm: # loop over all cycles in the move\n",
    "        j = cycle[0]\n",
    "        # M[j, i] \n",
    "        for i in cycle:  # apply cycle\n",
    "            c = np.array(list(M[:,j]))\n",
    "            M[:,j] = M[:,i]\n",
    "            M[:,i] = c\n",
    "            # M[:,i], M[:,j] = M[:,j], M[:,i]\n",
    "    return M"
   ]
  },
  {
   "cell_type": "code",
   "execution_count": 34,
   "metadata": {},
   "outputs": [],
   "source": [
    "def test_my_perm(state, perm):\n",
    "    \"\"\"\n",
    "    perform a permutation `perm`, given as a (list) of (tuple)s of (int)s, on a python (list) `state` using pure python loops and list operations.\n",
    "    `perm` represents the cyclic notation of a permutation, each tuple is one cycle.\n",
    "    \"\"\"\n",
    "    state = perform_action(state, perm)\n",
    "\n",
    "def test_sp_perm(state, perm):\n",
    "    \"\"\"\n",
    "    perform a sympy (Permutation) `perm` on a python (list) `state`\n",
    "    \"\"\"\n",
    "    state = perm(state)\n",
    "\n",
    "def test_mat_perm(state, perm_matrix):\n",
    "    \"\"\"\n",
    "    perform a permutation given by a permutation matrix (np.array) of (int) on `state`, also given as a (np.array) of (int)\n",
    "    \"\"\"\n",
    "    state = perm_matrix@state\n",
    "\n",
    "def test_np_perm(state, perm):\n",
    "    \"\"\"\n",
    "    perform a permutation `perm`, given as a (list) of (np.array)s of (int)s, on a (np.array) `state` using numpy array operations.\n",
    "    \"\"\"\n",
    "    state = np_perm(state, perm)\n",
    "\n",
    "def test_non_cycle_np_perm(state, mapping):\n",
    "    \"\"\"\n",
    "    \"\"\"\n",
    "    state = state[mapping]\n",
    "\n",
    "def test_non_cycle_np_perm_no_id(state, non_id_mapping):\n",
    "    \"\"\"\n",
    "    \"\"\"\n",
    "    state = state[non_id_mapping]"
   ]
  },
  {
   "cell_type": "code",
   "execution_count": 35,
   "metadata": {},
   "outputs": [],
   "source": [
    "def time_py_sp_np(perm, n=25):\n",
    "    state = list(range(n))\n",
    "    state_sp = list(range(n))\n",
    "    state_np, perm_np = list_to_arrays(state, perm)\n",
    "    perm_sp = Permutation(perm, size=n)\n",
    "    perm_mat = get_perm_matrix(perm, n)\n",
    "    perm_scpy = scpy.csr_matrix(perm_mat)\n",
    "    np_mapping = non_cycle_np_perm(state_np, perm_np)\n",
    "    non_id_mapping = non_id_cycle_np_perm(state_np, perm_np)\n",
    "    \n",
    "    %timeit test_my_perm(state, perm)\n",
    "    %timeit test_sp_perm(state_sp, perm_sp)\n",
    "    # %timeit test_mat_perm(state_np, perm_np)\n",
    "    # %timeit test_mat_perm(state_np, perm_scpy)\n",
    "    %timeit test_np_perm(state_np, perm_np)\n",
    "    %timeit test_non_cycle_np_perm(state_np, np_mapping)\n",
    "    %timeit test_non_cycle_np_perm_no_id(state_np, non_id_mapping)"
   ]
  },
  {
   "cell_type": "code",
   "execution_count": 6,
   "metadata": {
    "scrolled": false
   },
   "outputs": [],
   "source": [
    "Permutation??"
   ]
  },
  {
   "cell_type": "code",
   "execution_count": 44,
   "metadata": {},
   "outputs": [],
   "source": [
    "perm1 = [[1,2,3], [4,5,0]]\n",
    "perm2 = [[1,2], [3,4,5,0], [6,7,8,9,10,11], [12,13], [14,15,16], [17,18,19,20,21,22,23,24]]\n",
    "perm3 = [[0,1,2], [4,6,7], [8,9,11,12,13,14], [16,17,19,20,21,22,23], [24,25,26,27,28,30], [31,32,34,40,41,42], [43,44,46], [48,49,50,52,54,55], [56,57,58,59,60,62,64,65,67,69,70,72,73,74,75], [78,79,80,82,83,84,85,86], [87,89,90], [91,92,93,94,95,96,97,98,99], [299,300]]\n",
    "\n",
    "perm_3x3 = [[6, 33, 24, 15], [7, 34, 25, 16], [8, 35, 26, 17], [36, 42, 44, 38], [37, 39, 43, 41]]\n",
    "perm_4x4 = [[12, 60, 44, 28], [13, 61, 45, 29], [14, 62, 46, 30], [15, 63, 47, 31], [64, 76, 79, 67], [65, 72, 78, 71], [66, 68, 77, 75], [69, 73, 74, 70]]"
   ]
  },
  {
   "cell_type": "code",
   "execution_count": 45,
   "metadata": {},
   "outputs": [
    {
     "name": "stdout",
     "output_type": "stream",
     "text": [
      "1.53 µs ± 22.3 ns per loop (mean ± std. dev. of 7 runs, 1,000,000 loops each)\n",
      "3.74 µs ± 137 ns per loop (mean ± std. dev. of 7 runs, 100,000 loops each)\n",
      "19.4 µs ± 613 ns per loop (mean ± std. dev. of 7 runs, 100,000 loops each)\n",
      "1.16 µs ± 40.1 ns per loop (mean ± std. dev. of 7 runs, 1,000,000 loops each)\n",
      "950 ns ± 8.49 ns per loop (mean ± std. dev. of 7 runs, 1,000,000 loops each)\n"
     ]
    }
   ],
   "source": [
    "# time_py_sp_np(perm1, n=6)\n",
    "# time_py_sp_np(perm2, n=100)\n",
    "# time_py_sp_np(perm3, n=305)\n",
    "# time_py_sp_np(perm_3x3, n=54)\n",
    "time_py_sp_np(perm_4x4, n=144)"
   ]
  },
  {
   "cell_type": "code",
   "execution_count": 71,
   "metadata": {},
   "outputs": [
    {
     "name": "stdout",
     "output_type": "stream",
     "text": [
      "[5, 3, 1, 2, 0, 4]\n",
      "[4, 2, 3, 1, 5, 0]\n",
      "[4. 2. 3. 1. 5. 0.]\n"
     ]
    }
   ],
   "source": [
    "perm = perm1\n",
    "n = 6\n",
    "\n",
    "state = list(range(n))\n",
    "state_sp = list(range(n))\n",
    "state_np = np.array(state, dtype=np.uint8)\n",
    "perm_sp = Permutation(perm)\n",
    "perm_mat = get_perm_matrix(perm, n)\n",
    "print(perform_action(state, perm))\n",
    "print(perm_sp(state_sp))\n",
    "print(perm_mat@state_np)"
   ]
  }
 ],
 "metadata": {
  "interpreter": {
   "hash": "3e4985cd88b3a56a52b003f0882d181d8cd7ec7ac144250e5d6b471c317680e4"
  },
  "kernelspec": {
   "display_name": "Python 3 (ipykernel)",
   "language": "python",
   "name": "python3"
  },
  "language_info": {
   "codemirror_mode": {
    "name": "ipython",
    "version": 3
   },
   "file_extension": ".py",
   "mimetype": "text/x-python",
   "name": "python",
   "nbconvert_exporter": "python",
   "pygments_lexer": "ipython3",
   "version": "3.11.3"
  }
 },
 "nbformat": 4,
 "nbformat_minor": 2
}
