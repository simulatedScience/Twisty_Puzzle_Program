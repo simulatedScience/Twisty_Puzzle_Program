{
 "cells": [
  {
   "cell_type": "markdown",
   "metadata": {},
   "source": []
  },
  {
   "cell_type": "code",
   "execution_count": 1,
   "metadata": {},
   "outputs": [
    {
     "data": {
      "text/html": [
       "<div id=\"glowscript\" class=\"glowscript\"></div>"
      ],
      "text/plain": [
       "<IPython.core.display.HTML object>"
      ]
     },
     "metadata": {},
     "output_type": "display_data"
    },
    {
     "data": {
      "application/javascript": [
       "if (typeof Jupyter !== \"undefined\") { window.__context = { glowscript_container: $(\"#glowscript\").removeAttr(\"id\")};}else{ element.textContent = ' ';}"
      ],
      "text/plain": [
       "<IPython.core.display.Javascript object>"
      ]
     },
     "metadata": {},
     "output_type": "display_data"
    }
   ],
   "source": [
    "import os\n",
    "import sys\n",
    "import numpy\n",
    "import random\n",
    "from time import sleep\n",
    "from copy import deepcopy\n",
    "import tensorflow.keras as keras\n",
    "from keras import layers\n",
    "from itertools import count\n",
    "from gui.puzzle_class import Twisty_Puzzle\n",
    "from gui.ai_modules.ai_data_preparation import state_for_ai\n",
    "from gui.ai_modules.ai_puzzle_class import puzzle_ai\n",
    "from gui.ai_modules.twisty_puzzle_model import *\n",
    "\n",
    "def spread_fixed_sorted (l, iterations):\n",
    "    temp = [l.copy(), l.copy()]\n",
    "    length = len(l)-1\n",
    "    curr = 0\n",
    "    other = 1\n",
    "    for _ in range(iterations):\n",
    "        for i in range(1, length):\n",
    "            temp[other][i] = ((temp[curr][i-1] + temp[curr][i+1])/2 +\n",
    "                              temp[curr][i])/2\n",
    "        other, curr = curr, other\n",
    "    return temp[curr]\n",
    "\n",
    "def get_sort (l):\n",
    "    return sorted(range(len(l)), key=lambda k: l[k])\n",
    "\n",
    "def apply_perm (l, p):\n",
    "    return [l[s] for s in p]\n",
    "\n",
    "def sort (l):\n",
    "    p = get_sort(l)\n",
    "    return apply_perm(l, p), p\n",
    "\n",
    "def perm_invert (p):\n",
    "    out = p.copy()\n",
    "    for i,j in enumerate(p):\n",
    "        out[j]=i\n",
    "    return out\n",
    "\n",
    "def spread_fixed (l, iterations):\n",
    "    l, p = sort(l)\n",
    "    return apply_perm(spread_fixed_sorted(l, len(l)), perm_invert(p))\n",
    "\n",
    "def spread (l, iterations, minimum, maximum):\n",
    "    return spread_fixed([minimum]+l+[maximum], iterations)[1:-1]"
   ]
  },
  {
   "cell_type": "code",
   "execution_count": 2,
   "metadata": {},
   "outputs": [],
   "source": [
    "def compute_action_map (puzzle):\n",
    "    return list(puzzle.moves.keys())\n",
    "\n",
    "def action_num (action_map, action):\n",
    "    for i, act in enumerate(action_map):\n",
    "        if action == act :\n",
    "            return i\n",
    "\n",
    "def action_from_num (action_map, num):\n",
    "    return action_map[num]\n",
    "\n",
    "def prepare_data (action_map, q_table):\n",
    "    training_table = dict()\n",
    "    output_len = len(action_map)\n",
    "    output_template = [0 for _ in range(output_len)]\n",
    "    for state_action , value in q_table.items() :\n",
    "        (state , action) = state_action\n",
    "        inner = training_table.get(state) or output_template.copy()\n",
    "        inner[action_num(action_map, action)] = value\n",
    "        training_table[state] = inner\n",
    "    for state, actions in training_table.items():\n",
    "        training_table[state] = spread(actions, -1, 1, output_len)\n",
    "    return list(training_table.keys()) , list(training_table.values())\n",
    "\n",
    "def import_q_table (filename):\n",
    "    q_table = dict()\n",
    "    with open(filename, \"r\") as file:\n",
    "        q_table = eval (file.read())\n",
    "    return q_table"
   ]
  },
  {
   "cell_type": "code",
   "execution_count": 3,
   "metadata": {},
   "outputs": [],
   "source": [
    "def initialize_nn (puzzle):\n",
    "    action_map = compute_action_map(puzzle)\n",
    "    solved_state = state_for_ai(puzzle.SOLVED_STATE)[0]\n",
    "    input_size = len(solved_state)\n",
    "    output_size = len(action_map)\n",
    "    model = keras.Sequential()\n",
    "    model.add(layers.Input(shape=(input_size,)))\n",
    "    model.add(layers.Dense(input_size, activation='tanh'))\n",
    "    model.add(layers.Dense((input_size+output_size)/2, activation='tanh'))\n",
    "    model.add(layers.Dense(output_size, activation='tanh'))\n",
    "    model.add(layers.Dense(output_size, activation='tanh'))\n",
    "    \n",
    "    model.compile(optimizer='adam', loss='mean_squared_error')\n",
    "    return model, action_map"
   ]
  },
  {
   "cell_type": "code",
   "execution_count": 4,
   "metadata": {},
   "outputs": [],
   "source": [
    "def train_nn (model, samples, labels, epochs=100, batch_size=30):\n",
    "    return model.fit(samples, labels, epochs=epochs, batch_size=batch_size,\n",
    "                     use_multiprocessing=True, verbose=False)\n",
    "\n",
    "def prepare_nn (puzzle_name, epochs, batch_size=100):\n",
    "    puzzle = Twisty_Puzzle()\n",
    "    puzzle.load_puzzle(puzzle_name)\n",
    "    (model, action_map) = initialize_nn(puzzle)\n",
    "    q_table = import_q_table(os.path.join(\"gui\", \"puzzles\", puzzle_name, \"Q_table.txt\"))\n",
    "    (states, actions) = prepare_data(action_map, q_table)\n",
    "    train_nn(model, states, actions, epochs=epochs, batch_size=batch_size)\n",
    "    model.save(puzzle_name+\".nn\")\n",
    "    return model, puzzle, action_map"
   ]
  },
  {
   "cell_type": "code",
   "execution_count": 5,
   "metadata": {},
   "outputs": [],
   "source": [
    "def nn_get_greedy_move (model, state, action_map):\n",
    "    predictions = list(model.predict([tuple(state)], use_multiprocessing=True)[0])\n",
    "    print(predictions)\n",
    "    max_value = None\n",
    "    moves = []\n",
    "    for move, value in enumerate(predictions):\n",
    "        if (not max_value) or value > max_value:\n",
    "            moves = [move]\n",
    "            max_value = value\n",
    "        elif value == max_value:\n",
    "            moves.append(move)\n",
    "    print(moves)\n",
    "    return action_map[random.choice(moves)]\n",
    "\n",
    "def nn_get_epsilon_greedy_move (model, state, action_map, epsilon=0.5):\n",
    "    if random.random() > epsilon:\n",
    "        return nn_get_greedy_move(model, state, action_map)\n",
    "    else:\n",
    "        return random.choice(action_map)\n",
    "\n",
    "def nn_solve_puzzle (model, state, solved_state, puzzle, action_map, max_moves, epsilon=0):\n",
    "    moves = []\n",
    "    while max_moves >= 0:\n",
    "        if state == solved_state:\n",
    "            return moves, True\n",
    "        else :\n",
    "            move = nn_get_epsilon_greedy_move(model, state, action_map, epsilon=epsilon)\n",
    "            moves.append(move)\n",
    "            state = perform_action(state, puzzle.moves[move])\n",
    "            max_moves -= 1\n",
    "    return moves, False"
   ]
  },
  {
   "cell_type": "markdown",
   "metadata": {},
   "source": [
    "# finally test everything"
   ]
  },
  {
   "cell_type": "code",
   "execution_count": null,
   "metadata": {
    "scrolled": false
   },
   "outputs": [
    {
     "name": "stdout",
     "output_type": "stream",
     "text": [
      "Which puzzle? ivy_cube\n",
      "Load the existing neural network? [Y/n] n\n",
      "How many epochs? 10000\n"
     ]
    },
    {
     "data": {
      "text/html": [
       "<div id=\"glowscript\" class=\"glowscript\"></div>"
      ],
      "text/plain": [
       "<IPython.core.display.HTML object>"
      ]
     },
     "metadata": {},
     "output_type": "display_data"
    },
    {
     "data": {
      "application/javascript": [
       "if (typeof Jupyter !== \"undefined\") { window.__context = { glowscript_container: $(\"#glowscript\").removeAttr(\"id\")};}else{ element.textContent = ' ';}"
      ],
      "text/plain": [
       "<IPython.core.display.Javascript object>"
      ]
     },
     "metadata": {},
     "output_type": "display_data"
    },
    {
     "data": {
      "application/javascript": [
       "if (typeof Jupyter !== \"undefined\") {require.undef(\"nbextensions/vpython_libraries/glow.min\");}else{element.textContent = ' ';}"
      ],
      "text/plain": [
       "<IPython.core.display.Javascript object>"
      ]
     },
     "metadata": {},
     "output_type": "display_data"
    },
    {
     "data": {
      "application/javascript": [
       "if (typeof Jupyter !== \"undefined\") {require.undef(\"nbextensions/vpython_libraries/glowcomm\");}else{element.textContent = ' ';}"
      ],
      "text/plain": [
       "<IPython.core.display.Javascript object>"
      ]
     },
     "metadata": {},
     "output_type": "display_data"
    },
    {
     "data": {
      "application/javascript": [
       "if (typeof Jupyter !== \"undefined\") {require.undef(\"nbextensions/vpython_libraries/jquery-ui.custom.min\");}else{element.textContent = ' ';}"
      ],
      "text/plain": [
       "<IPython.core.display.Javascript object>"
      ]
     },
     "metadata": {},
     "output_type": "display_data"
    },
    {
     "data": {
      "application/javascript": [
       "if (typeof Jupyter !== \"undefined\") {require([\"nbextensions/vpython_libraries/glow.min\"], function(){console.log(\"GLOW LOADED\");});}else{element.textContent = ' ';}"
      ],
      "text/plain": [
       "<IPython.core.display.Javascript object>"
      ]
     },
     "metadata": {},
     "output_type": "display_data"
    },
    {
     "data": {
      "application/javascript": [
       "if (typeof Jupyter !== \"undefined\") {require([\"nbextensions/vpython_libraries/glowcomm\"], function(){console.log(\"GLOWCOMM LOADED\");});}else{element.textContent = ' ';}"
      ],
      "text/plain": [
       "<IPython.core.display.Javascript object>"
      ]
     },
     "metadata": {},
     "output_type": "display_data"
    },
    {
     "data": {
      "application/javascript": [
       "if (typeof Jupyter !== \"undefined\") {require([\"nbextensions/vpython_libraries/jquery-ui.custom.min\"], function(){console.log(\"JQUERY LOADED\");});}else{element.textContent = ' ';}"
      ],
      "text/plain": [
       "<IPython.core.display.Javascript object>"
      ]
     },
     "metadata": {},
     "output_type": "display_data"
    }
   ],
   "source": [
    "## {{{ http://code.activestate.com/recipes/577058/ (r2)\n",
    "def query_yes_no(question, default=\"yes\"):\n",
    "    \"\"\"Ask a yes/no question via raw_input() and return their answer.\n",
    "\n",
    "    \"question\" is a string that is presented to the user.\n",
    "    \"default\" is the presumed answer if the user just hits <Enter>.\n",
    "        It must be \"yes\" (the default), \"no\" or None (meaning\n",
    "        an answer is required of the user).\n",
    "\n",
    "    The \"answer\" return value is one of \"yes\" or \"no\".\n",
    "    \"\"\"\n",
    "    valid = {\"yes\":True,   \"y\":True,  \"ye\":True,\n",
    "             \"no\":False,     \"n\":False}\n",
    "    if default == None:\n",
    "        prompt = \" [y/n] \"\n",
    "    elif default == \"yes\":\n",
    "        prompt = \" [Y/n] \"\n",
    "    elif default == \"no\":\n",
    "        prompt = \" [y/N] \"\n",
    "    else:\n",
    "        raise ValueError(\"invalid default answer: '%s'\" % default)\n",
    "\n",
    "    while 1:\n",
    "        sys.stdout.write(question + prompt)\n",
    "        choice = input().lower()\n",
    "        if default is not None and choice == '':\n",
    "            return default\n",
    "        elif choice in valid.keys():\n",
    "            return valid[choice]\n",
    "        else:\n",
    "            sys.stdout.write(\"Please respond with 'yes' or 'no' \"\\\n",
    "                             \"(or 'y' or 'n').\\n\")\n",
    "## end of http://code.activestate.com/recipes/577058/ }}}\n",
    "\n",
    "puzzle_name = input(\"Which puzzle? \")\n",
    "model = None\n",
    "puzzle = None\n",
    "action_map = []\n",
    "if query_yes_no(\"Load the existing neural network?\"):\n",
    "    puzzle = Twisty_Puzzle()\n",
    "    puzzle.load_puzzle(puzzle_name)\n",
    "    model = keras.models.load_model(puzzle_name+\".nn\")\n",
    "    action_map = compute_action_map(puzzle)\n",
    "else:\n",
    "    epochs = int(input(\"How many epochs? \"))\n",
    "    model, puzzle, action_map = prepare_nn(puzzle_name, epochs)"
   ]
  },
  {
   "cell_type": "code",
   "execution_count": null,
   "metadata": {
    "scrolled": true
   },
   "outputs": [],
   "source": [
    "difficulty = int(input(\"How many moves to twist out from the solved state? \"))\n",
    "\n",
    "puzzle.reset_to_solved()\n",
    "solved_state = state_for_ai(puzzle.SOLVED_STATE)[0]\n",
    "state = deepcopy(solved_state)\n",
    "scramble_moves = scramble(state, puzzle.moves, max_moves=difficulty)\n",
    "start_state = deepcopy(state)\n",
    "\n",
    "print(\"solved state:\", solved_state)\n",
    "print(\"start:       \", state)\n",
    "(solution, solved) = nn_solve_puzzle(model, state, solved_state, puzzle, action_map, difficulty*2)\n",
    "print(\"end:         \", state)\n",
    "print(solved)\n",
    "print(solution)\n",
    "\n",
    "for move in scramble_moves:\n",
    "    puzzle.perform_move(move)\n",
    "for move in solution:\n",
    "    puzzle.perform_move(move)"
   ]
  },
  {
   "cell_type": "code",
   "execution_count": null,
   "metadata": {},
   "outputs": [],
   "source": []
  }
 ],
 "metadata": {
  "kernelspec": {
   "display_name": "Python 3",
   "language": "python",
   "name": "python3"
  },
  "language_info": {
   "codemirror_mode": {
    "name": "ipython",
    "version": 3
   },
   "file_extension": ".py",
   "mimetype": "text/x-python",
   "name": "python",
   "nbconvert_exporter": "python",
   "pygments_lexer": "ipython3",
   "version": "3.8.5"
  }
 },
 "nbformat": 4,
 "nbformat_minor": 4
}