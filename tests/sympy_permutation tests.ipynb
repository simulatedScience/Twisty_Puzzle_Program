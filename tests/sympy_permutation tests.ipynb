{
 "metadata": {
  "language_info": {
   "codemirror_mode": {
    "name": "ipython",
    "version": 3
   },
   "file_extension": ".py",
   "mimetype": "text/x-python",
   "name": "python",
   "nbconvert_exporter": "python",
   "pygments_lexer": "ipython3",
   "version": "3.8.5-final"
  },
  "orig_nbformat": 2,
  "kernelspec": {
   "name": "Python 3.8.5 64-bit",
   "display_name": "Python 3.8.5 64-bit",
   "metadata": {
    "interpreter": {
     "hash": "3e4985cd88b3a56a52b003f0882d181d8cd7ec7ac144250e5d6b471c317680e4"
    }
   }
  }
 },
 "nbformat": 4,
 "nbformat_minor": 2,
 "cells": [
  {
   "source": [
    "# Sympy permutations"
   ],
   "cell_type": "markdown",
   "metadata": {}
  },
  {
   "cell_type": "code",
   "execution_count": 1,
   "metadata": {},
   "outputs": [],
   "source": [
    "from sympy.combinatorics import Permutation"
   ]
  },
  {
   "cell_type": "code",
   "execution_count": 11,
   "metadata": {},
   "outputs": [],
   "source": [
    "p2 = Permutation([[1,2],[3,4,5]], size=7)\n",
    "p1 = Permutation([[2,3,4]], size=7)"
   ]
  },
  {
   "cell_type": "code",
   "execution_count": 12,
   "metadata": {},
   "outputs": [
    {
     "output_type": "stream",
     "name": "stdout",
     "text": [
      "(p1*p2)^i ) = (6)\n(p1*p2)^i ) = (6)(1 2 4)(3 5)\n(p1*p2)^i ) = (6)(1 4 2)\n(p1*p2)^i ) = (6)(3 5)\n(p1*p2)^i ) = (6)(1 2 4)\n(p1*p2)^i ) = (6)(1 4 2)(3 5)\n"
     ]
    }
   ],
   "source": [
    "for i in range((p1*p2).order()):\n",
    "    print(\"(p1*p2)^i ) =\",(p1*p2)**i)"
   ]
  }
 ]
}