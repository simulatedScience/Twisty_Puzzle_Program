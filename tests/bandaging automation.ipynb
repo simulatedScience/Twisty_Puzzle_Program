{
 "metadata": {
  "language_info": {
   "codemirror_mode": {
    "name": "ipython",
    "version": 3
   },
   "file_extension": ".py",
   "mimetype": "text/x-python",
   "name": "python",
   "nbconvert_exporter": "python",
   "pygments_lexer": "ipython3",
   "version": "3.8.5-final"
  },
  "orig_nbformat": 2,
  "kernelspec": {
   "name": "python38564bit40039fc9f5864e99b33450205d4ec4f3",
   "display_name": "Python 3.8.5 64-bit"
  }
 },
 "nbformat": 4,
 "nbformat_minor": 2,
 "cells": [
  {
   "cell_type": "markdown",
   "metadata": {},
   "source": [
    "# Automatic Bandaging detection\n",
    "\n",
    "I want to improve the graphics of the animation by replacing points with actual 3d polyhedra.\n",
    "Those should be calculated automatically. But to do that, it's useful to group them together by detecting what puzzle piece each point is on.\n",
    "\n",
    "That way I would need just one object per puzzle piece, not one object per color sticker.\n",
    "\n",
    "The pieces could be determined by analysing the moves defined for the puzzle:\n",
    "    If there are points that cannot be moved independently from oneanother, we could assume they are on the same piece.\n",
    "\n",
    "However this results in a problem for gear cubes: the rotating edge pieces sit on top of the inner edge pieces and can therefor never move completely independently. But they can move relative to the other color stickers on the same piece.\n",
    "\n",
    "Maybe it's possible to distinguish them using the following rules:\n",
    "\n",
    "**1.** _two points are not part of the same piece if there exists a move that moves just one of them._\n",
    "\n",
    "**2.** _two points are not part of the same piece if within any move that moves both points, their cycles have different orders._\n",
    "\n",
    "**3.** _two points are not on the same piece if there exists a cycle in a move, that contains at least two but not all of the points on that piece._\n",
    "\n",
    "The second rule would still be unable to prevent one edge case though:\n",
    "a puzzle where a part of one piece can be turned 180°, like a gear-cube edge piece where the gear can only turn by 180°. \n",
    "\n",
    "The third rule should capture that edge case though and should also capture every case ruled out by rule 2.\n",
    "\n",
    "_-> only rule 1 and 3 are necessary_\n",
    "\n",
    "_-> rule 3 only needs to be checked for pieces containing at least 3 points/color stickers_"
   ]
  },
  {
   "cell_type": "code",
   "execution_count": 4,
   "metadata": {},
   "outputs": [],
   "source": [
    "def detect_pieces(moves, n_points):\n",
    "    \"\"\"\n",
    "    detect the pieces of a puzzle based on the given moves.\n",
    "\n",
    "    inputs:\n",
    "    -------\n",
    "        moves - (dict) - dictionary with all possible moves\n",
    "        n_points - (int) - number of points (color stickers) in the puzzle\n",
    "            this can be determined with `len(puzzle.solved_state)`\n",
    "\n",
    "    returns:\n",
    "    --------\n",
    "        (list) - list of lists of point indeces that cannot be seperated with the given moves\n",
    "    \"\"\"\n",
    "    # pieces_list = [n_points]\n"
   ]
  },
  {
   "cell_type": "markdown",
   "metadata": {},
   "source": [
    "## Skewb"
   ]
  },
  {
   "cell_type": "code",
   "execution_count": 3,
   "metadata": {},
   "outputs": [],
   "source": [
    "wbr = [(0, 8, 7), (24, 25, 26), (4, 17, 10), (5, 15, 11), (6, 16, 9)]\n",
    "wbr2 = [(7, 8, 0), (26, 25, 24), (10, 17, 4), (11, 15, 5), (9, 16, 6)]\n",
    "wgo = [(1, 2, 3), (24, 27, 28), (9, 22, 5), (11, 21, 4), (10, 23, 6)]\n",
    "wgo2 = [(3, 2, 1), (28, 27, 24), (5, 22, 9), (4, 21, 11), (6, 23, 10)]\n",
    "ryg = [(13, 12, 14), (26, 29, 27), (16, 23, 11), (17, 21, 9), (15, 22, 10)]\n",
    "ryg2 = [(14, 12, 13), (27, 29, 26), (11, 23, 16), (9, 21, 17), (10, 22, 15)]\n",
    "oyb = [(19, 20, 18), (28, 29, 25), (21, 15, 6), (5, 23, 17), (4, 22, 16)]\n",
    "oyb2 = [(18, 20, 19), (25, 29, 28), (6, 15, 21), (17, 23, 5), (16, 22, 4)]\n",
    "\n",
    "skewb_moves = [wbr, wbr2, wgo, wgo2, ryg, ryg2, oyb, oyb2]"
   ]
  }
 ]
}