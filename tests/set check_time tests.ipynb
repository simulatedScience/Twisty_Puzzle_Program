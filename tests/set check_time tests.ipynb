{
 "metadata": {
  "language_info": {
   "codemirror_mode": {
    "name": "ipython",
    "version": 3
   },
   "file_extension": ".py",
   "mimetype": "text/x-python",
   "name": "python",
   "nbconvert_exporter": "python",
   "pygments_lexer": "ipython3",
   "version": "3.8.5-final"
  },
  "orig_nbformat": 2,
  "kernelspec": {
   "name": "python_defaultSpec_1600764490893",
   "display_name": "Python 3.8.5 64-bit"
  }
 },
 "nbformat": 4,
 "nbformat_minor": 2,
 "cells": [
  {
   "cell_type": "code",
   "execution_count": 3,
   "metadata": {},
   "outputs": [],
   "source": [
    "import random\n",
    "\n",
    "\n",
    "def f(n=1_000_000, seed=0):\n",
    "    random.seed(seed)\n",
    "    for _ in range(n):\n",
    "        pair = (random.randint(0,1), random.randint(0,1))\n",
    "        if pair.count(1) == 1:\n",
    "            t = True\n",
    "        t = False\n",
    "\n",
    "def g(n=1_000_000, seed=0):\n",
    "    random.seed(seed)\n",
    "    for _ in range(n):\n",
    "        pair = (random.randint(0,1), random.randint(0,1))\n",
    "        if len(set(pair)) == 1:\n",
    "            t = True\n",
    "        t = False\n",
    "\n",
    "def h(n=1_000_000, seed=0):\n",
    "    random.seed(seed)\n",
    "    for _ in range(n):\n",
    "        pair = (random.randint(0,1), random.randint(0,1))\n",
    "        if pair in [(True, False), (False, True)]:\n",
    "            t = True\n",
    "        t = False"
   ]
  },
  {
   "cell_type": "code",
   "execution_count": 5,
   "metadata": {
    "tags": []
   },
   "outputs": [
    {
     "output_type": "stream",
     "name": "stdout",
     "text": "1.95 s ± 676 ms per loop (mean ± std. dev. of 7 runs, 1 loop each)\n2.46 s ± 820 ms per loop (mean ± std. dev. of 7 runs, 1 loop each)\n2.47 s ± 662 ms per loop (mean ± std. dev. of 7 runs, 1 loop each)\n"
    }
   ],
   "source": [
    "seed = 2\n",
    "n = 1_000_000\n",
    "%timeit f(seed=seed, n=n)\n",
    "%timeit g(seed=seed, n=n)\n",
    "%timeit h(seed=seed, n=n)"
   ]
  },
  {
   "cell_type": "code",
   "execution_count": null,
   "metadata": {},
   "outputs": [],
   "source": []
  }
 ]
}