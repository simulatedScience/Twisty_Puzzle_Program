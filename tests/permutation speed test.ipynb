{
 "cells": [
  {
   "cell_type": "code",
   "execution_count": 1,
   "metadata": {},
   "outputs": [],
   "source": [
    "from sympy.combinatorics import Permutation\n",
    "import numpy as np\n",
    "import scipy.sparse as scpy"
   ]
  },
  {
   "cell_type": "code",
   "execution_count": 2,
   "metadata": {},
   "outputs": [],
   "source": [
    "def perform_action(state, action):\n",
    "    \"\"\"\n",
    "    perform the given action on the given state in-place\n",
    "    for twisty puzzles this means applying the permutations of a move\n",
    "\n",
    "    inputs:\n",
    "    -------\n",
    "        state - (list) of (int) - list representing the state\n",
    "        action - (list) of (list) of (int) - list representing an action, here as a list of cycles\n",
    "            cycles are lists of list indices of the state list.\n",
    "    \"\"\"\n",
    "    for cycle in action: # loop over all cycles in the move\n",
    "        j = cycle[0]\n",
    "        for i in cycle:  # apply cycle\n",
    "            state[i], state[j] = state[j], state[i]\n",
    "    return state"
   ]
  },
  {
   "cell_type": "code",
   "execution_count": 3,
   "metadata": {},
   "outputs": [],
   "source": [
    "def get_perm_matrix(perm, n):\n",
    "    \"\"\"\n",
    "    convert a permutation in cyclic notation into a permutation matrix, such that M@s = perm(s)\n",
    "    inputs:\n",
    "        perm - (list) of (tuple) of (int) - permutation in cyclic notation\n",
    "        n - (int) - number of elements in permutation\n",
    "    returns:\n",
    "        (np.array) - permutation matrix\n",
    "    \"\"\"\n",
    "    M = np.eye(n, dtype=np.bool_)\n",
    "    # M = np.eye(n, dtype=np.uint8)\n",
    "    for cycle in perm: # loop over all cycles in the move\n",
    "        j = cycle[0]\n",
    "        # M[j, i] \n",
    "        for i in cycle:  # apply cycle\n",
    "            c = np.array(list(M[:,j]))\n",
    "            M[:,j] = M[:,i]\n",
    "            M[:,i] = c\n",
    "            # M[:,i], M[:,j] = M[:,j], M[:,i]\n",
    "    return M"
   ]
  },
  {
   "cell_type": "code",
   "execution_count": 4,
   "metadata": {},
   "outputs": [],
   "source": [
    "def test_my_perm(state, perm):\n",
    "    \"\"\"\n",
    "    perform a permutation `perm`, given as a (list) of (tuple)s of (int)s, on a python (list) `state` using pure python loops and list operations.\n",
    "    `perm` represents the cyclic notation of a permutation, each tuple is one cycle.\n",
    "    \"\"\"\n",
    "    state = perform_action(state, perm)\n",
    "\n",
    "def test_sp_perm(state, perm):\n",
    "    \"\"\"\n",
    "    perform a sympy (Permutation) `perm` on a python (list) `state`\n",
    "    \"\"\"\n",
    "    state = perm(state)\n",
    "\n",
    "def test_np_perm(state, perm_matrix):\n",
    "    \"\"\"\n",
    "    perform a permutation given by a permutation matrix (np.array) of (int) on `state`, also given as a (np.array) of (int)\n",
    "    \"\"\"\n",
    "    state = perm_matrix@state"
   ]
  },
  {
   "cell_type": "code",
   "execution_count": 5,
   "metadata": {},
   "outputs": [],
   "source": [
    "def time_py_sp_np(perm, n=25):\n",
    "    state = list(range(n))\n",
    "    state_sp = list(range(n))\n",
    "    state_np = np.array(state, dtype=np.uint8)\n",
    "    perm_sp = Permutation(perm, size=n)\n",
    "    perm_np = get_perm_matrix(perm, n)\n",
    "    perm_scpy = scpy.csr_matrix(perm_np)\n",
    "    %timeit test_my_perm(state, perm)\n",
    "    %timeit test_sp_perm(state_sp, perm_sp)\n",
    "    %timeit test_np_perm(state_np, perm_np)\n",
    "    %timeit test_np_perm(state_np, perm_scpy)"
   ]
  },
  {
   "cell_type": "code",
   "execution_count": 6,
   "metadata": {
    "scrolled": false
   },
   "outputs": [],
   "source": [
    "Permutation??"
   ]
  },
  {
   "cell_type": "code",
   "execution_count": 7,
   "metadata": {},
   "outputs": [],
   "source": [
    "perm1 = [[1,2,3], [4,5,0]]\n",
    "perm2 = [[1,2], [3,4,5,0], [6,7,8,9,10,11], [12,13], [14,15,16], [17,18,19,20,21,22,23,24]]\n",
    "perm3 = [[0,1,2], [4,6,7], [8,9,11,12,13,14], [16,17,19,20,21,22,23], [24,25,26,27,28,30], [31,32,34,40,41,42], [43,44,46], [48,49,50,52,54,55], [56,57,58,59,60,62,64,65,67,69,70,72,73,74,75], [78,79,80,82,83,84,85,86], [87,89,90], [91,92,93,94,95,96,97,98,99], [299,300]]"
   ]
  },
  {
   "cell_type": "code",
   "execution_count": 8,
   "metadata": {},
   "outputs": [
    {
     "name": "stdout",
     "output_type": "stream",
     "text": [
      "1.49 µs ± 25.9 ns per loop (mean ± std. dev. of 7 runs, 1,000,000 loops each)\n",
      "2.74 µs ± 87.3 ns per loop (mean ± std. dev. of 7 runs, 100,000 loops each)\n",
      "20.6 µs ± 661 ns per loop (mean ± std. dev. of 7 runs, 10,000 loops each)\n",
      "4.01 µs ± 88.8 ns per loop (mean ± std. dev. of 7 runs, 100,000 loops each)\n"
     ]
    }
   ],
   "source": [
    "# time_py_sp_np(perm1, n=6)\n",
    "time_py_sp_np(perm2, n=100)\n",
    "# time_py_sp_np(perm3, n=800)"
   ]
  },
  {
   "cell_type": "code",
   "execution_count": 71,
   "metadata": {},
   "outputs": [
    {
     "name": "stdout",
     "output_type": "stream",
     "text": [
      "[5, 3, 1, 2, 0, 4]\n",
      "[4, 2, 3, 1, 5, 0]\n",
      "[4. 2. 3. 1. 5. 0.]\n"
     ]
    }
   ],
   "source": [
    "perm = perm1\n",
    "n = 6\n",
    "\n",
    "state = list(range(n))\n",
    "state_sp = list(range(n))\n",
    "state_np = np.array(state, dtype=np.uint8)\n",
    "perm_sp = Permutation(perm)\n",
    "perm_np = get_perm_matrix(perm, n)\n",
    "print(perform_action(state, perm))\n",
    "print(perm_sp(state_sp))\n",
    "print(perm_np@state_np)"
   ]
  }
 ],
 "metadata": {
  "interpreter": {
   "hash": "3e4985cd88b3a56a52b003f0882d181d8cd7ec7ac144250e5d6b471c317680e4"
  },
  "kernelspec": {
   "display_name": "Python 3 (ipykernel)",
   "language": "python",
   "name": "python3"
  },
  "language_info": {
   "codemirror_mode": {
    "name": "ipython",
    "version": 3
   },
   "file_extension": ".py",
   "mimetype": "text/x-python",
   "name": "python",
   "nbconvert_exporter": "python",
   "pygments_lexer": "ipython3",
   "version": "3.9.13"
  }
 },
 "nbformat": 4,
 "nbformat_minor": 2
}
