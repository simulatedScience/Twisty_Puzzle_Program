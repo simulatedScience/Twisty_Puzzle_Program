{
 "cells": [
  {
   "cell_type": "code",
   "execution_count": 41,
   "metadata": {},
   "outputs": [],
   "source": [
    "import random\n",
    "import numpy as np\n",
    "def gen_L(max_len=100_000):\n",
    "    L = []\n",
    "    for _ in range(max_len):\n",
    "        L.append(random.choice(items))\n",
    "    return L"
   ]
  },
  {
   "cell_type": "code",
   "execution_count": 43,
   "metadata": {},
   "outputs": [],
   "source": [
    "items = [1,2,3,4]\n",
    "encoder_dict = {1:[1,0,0,0],\n",
    "                2:[0,1,0,0],\n",
    "                3:[0,0,1,0],\n",
    "                4:[0,0,0,1]}\n",
    "\n",
    "max_len = 10_000\n",
    "L = gen_L(max_len)\n",
    "np_L = np.array(L)\n",
    "np_dict = {1:np.array([1,0,0,0]),\n",
    "           2:np.array([0,1,0,0]),\n",
    "           3:np.array([0,0,1,0]),\n",
    "           4:np.array([0,0,0,1])}"
   ]
  },
  {
   "cell_type": "code",
   "execution_count": 46,
   "metadata": {},
   "outputs": [],
   "source": [
    "import itertools\n",
    "def get_state_1(int_list):\n",
    "    return list(itertools.chain.from_iterable([encoder_dict[color] for color in int_list]))\n",
    "\n",
    "def get_state_2(int_list):\n",
    "    new_L = list()\n",
    "    for item in int_list:\n",
    "        new_L += encoder_dict[item]\n",
    "    return new_L\n",
    "\n",
    "def get_state_3(int_list):\n",
    "    new_L = list()\n",
    "    for item in int_list:\n",
    "        for enc in encoder_dict[item]:\n",
    "            new_L.append(enc)\n",
    "    return new_L\n",
    "\n",
    "def get_state_4(int_list):\n",
    "    new_L = list()\n",
    "    for item in int_list:\n",
    "        new_L.extend(encoder_dict[item])\n",
    "    return new_L\n",
    "\n",
    "def get_state_5(np_array):\n",
    "    return np.concatenate([np_dict[item] for item in np_array])"
   ]
  },
  {
   "cell_type": "code",
   "execution_count": 21,
   "metadata": {},
   "outputs": [],
   "source": [
    "from sklearn.preprocessing import OneHotEncoder\n",
    "enc = OneHotEncoder(categories=[[1,2,3,4]]*max_len, dtype=int)\n",
    "# enc = OneHotEncoder(dtype=int)\n",
    "enc.fit([L])\n",
    "def get_state_4(int_list):\n",
    "    return enc.transform([int_list]).toarray()"
   ]
  },
  {
   "cell_type": "code",
   "execution_count": 28,
   "metadata": {},
   "outputs": [
    {
     "output_type": "execute_result",
     "data": {
      "text/plain": "True"
     },
     "metadata": {},
     "execution_count": 28
    }
   ],
   "source": [
    "get_state_4(L) == get_state_2(L)"
   ]
  },
  {
   "cell_type": "code",
   "execution_count": 31,
   "metadata": {
    "tags": []
   },
   "outputs": [
    {
     "output_type": "stream",
     "name": "stdout",
     "text": "3.65 ms ± 645 µs per loop (mean ± std. dev. of 7 runs, 100 loops each)\n"
    }
   ],
   "source": [
    "%timeit get_state_1(L)"
   ]
  },
  {
   "cell_type": "code",
   "execution_count": 35,
   "metadata": {
    "tags": []
   },
   "outputs": [
    {
     "output_type": "stream",
     "name": "stdout",
     "text": "1.46 ms ± 62.7 µs per loop (mean ± std. dev. of 7 runs, 1000 loops each)\n"
    }
   ],
   "source": [
    "%timeit get_state_2(L)"
   ]
  },
  {
   "cell_type": "code",
   "execution_count": 33,
   "metadata": {
    "tags": []
   },
   "outputs": [
    {
     "output_type": "stream",
     "name": "stdout",
     "text": "7.24 ms ± 578 µs per loop (mean ± std. dev. of 7 runs, 100 loops each)\n"
    }
   ],
   "source": [
    "%timeit get_state_3(L)"
   ]
  },
  {
   "cell_type": "code",
   "execution_count": 48,
   "metadata": {
    "tags": []
   },
   "outputs": [
    {
     "output_type": "stream",
     "name": "stdout",
     "text": "2.38 ms ± 28 µs per loop (mean ± std. dev. of 7 runs, 100 loops each)\n"
    }
   ],
   "source": [
    "%timeit get_state_5(L)"
   ]
  }
 ],
 "metadata": {
  "kernelspec": {
   "display_name": "Python 3.8.5 64-bit",
   "language": "python",
   "name": "python38564bit40039fc9f5864e99b33450205d4ec4f3"
  },
  "language_info": {
   "codemirror_mode": {
    "name": "ipython",
    "version": 3
   },
   "file_extension": ".py",
   "mimetype": "text/x-python",
   "name": "python",
   "nbconvert_exporter": "python",
   "pygments_lexer": "ipython3",
   "version": "3.8.5-final"
  }
 },
 "nbformat": 4,
 "nbformat_minor": 2
}