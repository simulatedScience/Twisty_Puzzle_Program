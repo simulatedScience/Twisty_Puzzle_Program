{
 "cells": [
  {
   "cell_type": "code",
   "execution_count": 1,
   "metadata": {},
   "outputs": [],
   "source": [
    "\"\"\"\n",
    "This module provides methods to calculate orbits of points and pieces under a given action set.\n",
    "\"\"\"\n",
    "from sympy.combinatorics import Permutation"
   ]
  },
  {
   "cell_type": "code",
   "execution_count": 2,
   "metadata": {},
   "outputs": [],
   "source": [
    "def calculate_point_orbits_new(\n",
    "        n_points: int,\n",
    "        moves: list[Permutation],\n",
    "    ) -> list[set[int]]:\n",
    "    \"\"\"\n",
    "    Calculate orbits of points under a given action set.\n",
    "    1. start with all points as single-element sets.\n",
    "    2. for each move, join the sets of all points that are within the same cycle in the move.\n",
    "    3. repeat step 2 until no more sets can be joined. (We expect to always reach a fixed point after the first iteration.)\n",
    "\n",
    "    Args:\n",
    "        n_points: The number of points to calculate orbits for.\n",
    "        moves: A list of permutations that represent the action set.\n",
    "\n",
    "    Returns:\n",
    "        list[set[int]]: A list of sets, where each set contains the indices of points in the same orbit.\n",
    "    \"\"\"\n",
    "    point_orbits: list[set[int]] = [set([point]) for point in range(n_points)]\n",
    "    joined: bool = True\n",
    "    iteration_count: int = 0\n",
    "    while joined:\n",
    "        joined = False\n",
    "        for move in moves:\n",
    "            for cycle in move.cyclic_form:\n",
    "                # find the orbits containing each point in the cycle\n",
    "                orbits_to_join: list[set[int]] = [\n",
    "                    i for i, orbit in enumerate(point_orbits) if not orbit.isdisjoint(cycle)]\n",
    "                # orbit indices are sorted in ascending order\n",
    "                if len(orbits_to_join) > 1:\n",
    "                    # join the orbits\n",
    "                    for orbit_index in orbits_to_join[-1:0:-1]: # iterate in reverse order to avoid index shifting\n",
    "                        point_orbits[orbits_to_join[0]] |= point_orbits.pop(orbit_index)\n",
    "                        joined = True\n",
    "        iteration_count += 1\n",
    "    print(f\"Found {len(point_orbits)} point orbits after {iteration_count} iterations.\")\n",
    "    return point_orbits"
   ]
  },
  {
   "cell_type": "code",
   "execution_count": 3,
   "metadata": {},
   "outputs": [],
   "source": [
    "def calculate_point_orbits_old(n_points: int, moves: list[Permutation]) -> list[set[int]]:\n",
    "    def apply_move(point: int, move: Permutation) -> int:\n",
    "        try:\n",
    "            return move(point)\n",
    "        except (TypeError, IndexError):\n",
    "            return point\n",
    "\n",
    "    orbits = []\n",
    "    visited = set()\n",
    "\n",
    "    for point in range(n_points):\n",
    "        if point not in visited:\n",
    "            orbit = set()\n",
    "            queue = [point]\n",
    "\n",
    "            while queue:\n",
    "                current = queue.pop(0)\n",
    "                if current not in orbit:\n",
    "                    orbit.add(current)\n",
    "                    visited.add(current)\n",
    "                    for move in moves:\n",
    "                        new_point = apply_move(current, move)\n",
    "                        if new_point not in orbit:\n",
    "                            queue.append(new_point)\n",
    "            \n",
    "            orbits.append(orbit)\n",
    "    \n",
    "    return orbits"
   ]
  },
  {
   "cell_type": "code",
   "execution_count": 4,
   "metadata": {},
   "outputs": [
    {
     "name": "stdout",
     "output_type": "stream",
     "text": [
      "C:\\Users\\basti\\Documents\\programming\\python\\Twisty_Puzzle_Program\n"
     ]
    },
    {
     "data": {
      "text/html": [
       "<div id=\"glowscript\" class=\"glowscript\"></div>"
      ],
      "text/plain": [
       "<IPython.core.display.HTML object>"
      ]
     },
     "metadata": {},
     "output_type": "display_data"
    },
    {
     "data": {
      "application/javascript": "if (typeof Jupyter !== \"undefined\") { window.__context = { glowscript_container: $(\"#glowscript\").removeAttr(\"id\")};}else{ element.textContent = ' ';}",
      "text/plain": [
       "<IPython.core.display.Javascript object>"
      ]
     },
     "metadata": {},
     "output_type": "display_data"
    },
    {
     "ename": "AttributeError",
     "evalue": "module 'notebook' has no attribute 'nbextensions'",
     "output_type": "error",
     "traceback": [
      "\u001b[1;31m---------------------------------------------------------------------------\u001b[0m",
      "\u001b[1;31mAttributeError\u001b[0m                            Traceback (most recent call last)",
      "Cell \u001b[1;32mIn[4], line 23\u001b[0m\n\u001b[0;32m     16\u001b[0m \u001b[38;5;66;03m# puzzle_name: str = \"rubiks_2x2_ai\"\u001b[39;00m\n\u001b[0;32m     17\u001b[0m \u001b[38;5;66;03m# puzzle_name: str = \"rubiks_2x2\"\u001b[39;00m\n\u001b[0;32m     18\u001b[0m \u001b[38;5;66;03m# puzzle_name: str = \"skewb\"\u001b[39;00m\n\u001b[0;32m     19\u001b[0m \u001b[38;5;66;03m# puzzle_name: str = \"cube_4x4x4\"\u001b[39;00m\n\u001b[0;32m     20\u001b[0m \u001b[38;5;66;03m# puzzle_name: str = \"gear_cube\"\u001b[39;00m\n\u001b[0;32m     21\u001b[0m \u001b[38;5;66;03m# puzzle_name: str = \"geared_mixup\"\u001b[39;00m\n\u001b[0;32m     22\u001b[0m puzzle: Twisty_Puzzle \u001b[38;5;241m=\u001b[39m Twisty_Puzzle()\n\u001b[1;32m---> 23\u001b[0m \u001b[43mpuzzle\u001b[49m\u001b[38;5;241;43m.\u001b[39;49m\u001b[43mload_puzzle\u001b[49m\u001b[43m(\u001b[49m\u001b[43mpuzzle_name\u001b[49m\u001b[43m,\u001b[49m\u001b[43m \u001b[49m\u001b[43mshow_3d_view\u001b[49m\u001b[38;5;241;43m=\u001b[39;49m\u001b[38;5;28;43;01mFalse\u001b[39;49;00m\u001b[43m)\u001b[49m\n\u001b[0;32m     25\u001b[0m sympy_moves: \u001b[38;5;28mdict\u001b[39m[\u001b[38;5;28mstr\u001b[39m, Permutation] \u001b[38;5;241m=\u001b[39m alg_ana\u001b[38;5;241m.\u001b[39mget_sympy_moves(puzzle)\n",
      "File \u001b[1;32m~\\Documents\\programming\\python\\Twisty_Puzzle_Program\\src\\puzzle_class.py:442\u001b[0m, in \u001b[0;36mTwisty_Puzzle.load_puzzle\u001b[1;34m(self, puzzle_name, show_3d_view)\u001b[0m\n\u001b[0;32m    440\u001b[0m \u001b[38;5;28;01mif\u001b[39;00m show_3d_view:\n\u001b[0;32m    441\u001b[0m     \u001b[38;5;28mself\u001b[39m\u001b[38;5;241m.\u001b[39mcanvas \u001b[38;5;241m=\u001b[39m create_canvas()\n\u001b[1;32m--> 442\u001b[0m \u001b[38;5;28mself\u001b[39m\u001b[38;5;241m.\u001b[39mvpy_objects \u001b[38;5;241m=\u001b[39m \u001b[43mdraw_points\u001b[49m\u001b[43m(\u001b[49m\u001b[38;5;28;43mself\u001b[39;49m\u001b[38;5;241;43m.\u001b[39;49m\u001b[43mPOINT_INFO_DICTS\u001b[49m\u001b[43m)\u001b[49m\n\u001b[0;32m    444\u001b[0m \u001b[38;5;28mself\u001b[39m\u001b[38;5;241m.\u001b[39mPOINT_POSITIONS \u001b[38;5;241m=\u001b[39m [point[\u001b[38;5;124m\"\u001b[39m\u001b[38;5;124mcoords\u001b[39m\u001b[38;5;124m\"\u001b[39m] \u001b[38;5;28;01mfor\u001b[39;00m point \u001b[38;5;129;01min\u001b[39;00m \u001b[38;5;28mself\u001b[39m\u001b[38;5;241m.\u001b[39mPOINT_INFO_DICTS]\n\u001b[0;32m    445\u001b[0m \u001b[38;5;28mself\u001b[39m\u001b[38;5;241m.\u001b[39mSOLVED_STATE \u001b[38;5;241m=\u001b[39m [point[\u001b[38;5;124m\"\u001b[39m\u001b[38;5;124mvpy_color\u001b[39m\u001b[38;5;124m\"\u001b[39m] \u001b[38;5;28;01mfor\u001b[39;00m point \u001b[38;5;129;01min\u001b[39;00m \u001b[38;5;28mself\u001b[39m\u001b[38;5;241m.\u001b[39mPOINT_INFO_DICTS]\n",
      "File \u001b[1;32m~\\Documents\\programming\\python\\Twisty_Puzzle_Program\\src\\ggb_import\\ggb_to_vpy.py:53\u001b[0m, in \u001b[0;36mdraw_points\u001b[1;34m(point_dicts)\u001b[0m\n\u001b[0;32m     51\u001b[0m objects \u001b[38;5;241m=\u001b[39m []\n\u001b[0;32m     52\u001b[0m \u001b[38;5;28;01mfor\u001b[39;00m point_dict \u001b[38;5;129;01min\u001b[39;00m point_dicts:\n\u001b[1;32m---> 53\u001b[0m     objects\u001b[38;5;241m.\u001b[39mappend(\u001b[43mdraw_point\u001b[49m\u001b[43m(\u001b[49m\u001b[43mpoint_dict\u001b[49m\u001b[43m)\u001b[49m)\n\u001b[0;32m     54\u001b[0m \u001b[38;5;28;01mreturn\u001b[39;00m objects\n",
      "File \u001b[1;32m~\\Documents\\programming\\python\\Twisty_Puzzle_Program\\src\\ggb_import\\ggb_to_vpy.py:82\u001b[0m, in \u001b[0;36mdraw_point\u001b[1;34m(point_dict, radius)\u001b[0m\n\u001b[0;32m     80\u001b[0m \u001b[38;5;28;01mif\u001b[39;00m \u001b[38;5;129;01mnot\u001b[39;00m \u001b[38;5;28misinstance\u001b[39m(point_dict[\u001b[38;5;124m\"\u001b[39m\u001b[38;5;124mcoords\u001b[39m\u001b[38;5;124m\"\u001b[39m], vpy\u001b[38;5;241m.\u001b[39mvector):\n\u001b[0;32m     81\u001b[0m     dict_to_vpy(point_dict)\n\u001b[1;32m---> 82\u001b[0m \u001b[38;5;28;01mreturn\u001b[39;00m \u001b[43mvpy\u001b[49m\u001b[38;5;241;43m.\u001b[39;49m\u001b[43msphere\u001b[49m\u001b[43m(\u001b[49m\u001b[43mpos\u001b[49m\u001b[38;5;241;43m=\u001b[39;49m\u001b[43mpoint_dict\u001b[49m\u001b[43m[\u001b[49m\u001b[38;5;124;43m\"\u001b[39;49m\u001b[38;5;124;43mcoords\u001b[39;49m\u001b[38;5;124;43m\"\u001b[39;49m\u001b[43m]\u001b[49m\u001b[43m,\u001b[49m\n\u001b[0;32m     83\u001b[0m \u001b[43m                  \u001b[49m\u001b[43mcolor\u001b[49m\u001b[38;5;241;43m=\u001b[39;49m\u001b[43mpoint_dict\u001b[49m\u001b[43m[\u001b[49m\u001b[38;5;124;43m\"\u001b[39;49m\u001b[38;5;124;43mvpy_color\u001b[39;49m\u001b[38;5;124;43m\"\u001b[39;49m\u001b[43m]\u001b[49m\u001b[43m,\u001b[49m\n\u001b[0;32m     84\u001b[0m \u001b[43m                  \u001b[49m\u001b[43mradius\u001b[49m\u001b[38;5;241;43m=\u001b[39;49m\u001b[43mradius\u001b[49m\u001b[43m)\u001b[49m\n",
      "File \u001b[1;32mc:\\Users\\basti\\Documents\\programming\\python\\Twisty_Puzzle_Program\\.venv\\Lib\\site-packages\\vpython\\vpython.py:1153\u001b[0m, in \u001b[0;36msphere.__init__\u001b[1;34m(self, **args)\u001b[0m\n\u001b[0;32m   1151\u001b[0m args[\u001b[38;5;124m'\u001b[39m\u001b[38;5;124m_default_size\u001b[39m\u001b[38;5;124m'\u001b[39m] \u001b[38;5;241m=\u001b[39m vector(\u001b[38;5;241m2\u001b[39m,\u001b[38;5;241m2\u001b[39m,\u001b[38;5;241m2\u001b[39m)\n\u001b[0;32m   1152\u001b[0m args[\u001b[38;5;124m'\u001b[39m\u001b[38;5;124m_objName\u001b[39m\u001b[38;5;124m'\u001b[39m] \u001b[38;5;241m=\u001b[39m \u001b[38;5;124m\"\u001b[39m\u001b[38;5;124msphere\u001b[39m\u001b[38;5;124m\"\u001b[39m\n\u001b[1;32m-> 1153\u001b[0m \u001b[38;5;28;43msuper\u001b[39;49m\u001b[43m(\u001b[49m\u001b[43msphere\u001b[49m\u001b[43m,\u001b[49m\u001b[43m \u001b[49m\u001b[38;5;28;43mself\u001b[39;49m\u001b[43m)\u001b[49m\u001b[38;5;241;43m.\u001b[39;49m\u001b[43msetup\u001b[49m\u001b[43m(\u001b[49m\u001b[43margs\u001b[49m\u001b[43m)\u001b[49m\n\u001b[0;32m   1154\u001b[0m \u001b[38;5;28mself\u001b[39m\u001b[38;5;241m.\u001b[39m_sizing \u001b[38;5;241m=\u001b[39m \u001b[38;5;28;01mFalse\u001b[39;00m\n",
      "File \u001b[1;32mc:\\Users\\basti\\Documents\\programming\\python\\Twisty_Puzzle_Program\\.venv\\Lib\\site-packages\\vpython\\vpython.py:580\u001b[0m, in \u001b[0;36mstandardAttributes.setup\u001b[1;34m(self, args)\u001b[0m\n\u001b[0;32m    579\u001b[0m \u001b[38;5;28;01mdef\u001b[39;00m \u001b[38;5;21msetup\u001b[39m(\u001b[38;5;28mself\u001b[39m, args):\n\u001b[1;32m--> 580\u001b[0m     \u001b[38;5;28;43msuper\u001b[39;49m\u001b[43m(\u001b[49m\u001b[43mstandardAttributes\u001b[49m\u001b[43m,\u001b[49m\u001b[43m \u001b[49m\u001b[38;5;28;43mself\u001b[39;49m\u001b[43m)\u001b[49m\u001b[38;5;241;43m.\u001b[39;49m\u001b[38;5;21;43m__init__\u001b[39;49m\u001b[43m(\u001b[49m\u001b[43m)\u001b[49m\n\u001b[0;32m    581\u001b[0m     \u001b[38;5;28mself\u001b[39m\u001b[38;5;241m.\u001b[39m_constructing \u001b[38;5;241m=\u001b[39m \u001b[38;5;28;01mTrue\u001b[39;00m  \u001b[38;5;66;03m## calls to setters are from constructor\u001b[39;00m\n\u001b[0;32m    583\u001b[0m     objName \u001b[38;5;241m=\u001b[39m \u001b[38;5;28mself\u001b[39m\u001b[38;5;241m.\u001b[39m_objName \u001b[38;5;241m=\u001b[39m args[\u001b[38;5;124m'\u001b[39m\u001b[38;5;124m_objName\u001b[39m\u001b[38;5;124m'\u001b[39m]  \u001b[38;5;66;03m## identifies object type\u001b[39;00m\n",
      "File \u001b[1;32mc:\\Users\\basti\\Documents\\programming\\python\\Twisty_Puzzle_Program\\.venv\\Lib\\site-packages\\vpython\\vpython.py:239\u001b[0m, in \u001b[0;36mbaseObj.__init__\u001b[1;34m(self, **kwargs)\u001b[0m\n\u001b[0;32m    236\u001b[0m \u001b[38;5;28;01mif\u001b[39;00m \u001b[38;5;129;01mnot\u001b[39;00m (baseObj\u001b[38;5;241m.\u001b[39m_view_constructed \u001b[38;5;129;01mor\u001b[39;00m\n\u001b[0;32m    237\u001b[0m         baseObj\u001b[38;5;241m.\u001b[39m_canvas_constructing):\n\u001b[0;32m    238\u001b[0m     \u001b[38;5;28;01mif\u001b[39;00m _isnotebook:\n\u001b[1;32m--> 239\u001b[0m         \u001b[38;5;28;01mfrom\u001b[39;00m \u001b[38;5;21;01m.\u001b[39;00m\u001b[38;5;21;01mwith_notebook\u001b[39;00m \u001b[38;5;28;01mimport\u001b[39;00m _\n\u001b[0;32m    240\u001b[0m     \u001b[38;5;28;01melse\u001b[39;00m:\n\u001b[0;32m    241\u001b[0m         \u001b[38;5;28;01mfrom\u001b[39;00m \u001b[38;5;21;01m.\u001b[39;00m\u001b[38;5;21;01mno_notebook\u001b[39;00m \u001b[38;5;28;01mimport\u001b[39;00m _\n",
      "File \u001b[1;32mc:\\Users\\basti\\Documents\\programming\\python\\Twisty_Puzzle_Program\\.venv\\Lib\\site-packages\\vpython\\with_notebook.py:80\u001b[0m\n\u001b[0;32m     77\u001b[0m         transfer \u001b[38;5;241m=\u001b[39m (v \u001b[38;5;241m!=\u001b[39m __version__) \u001b[38;5;66;03m# need not transfer files to nbextensions if correct version's files already there\u001b[39;00m\n\u001b[0;32m     79\u001b[0m \u001b[38;5;28;01mif\u001b[39;00m transfer:\n\u001b[1;32m---> 80\u001b[0m     \u001b[43mnotebook\u001b[49m\u001b[38;5;241;43m.\u001b[39;49m\u001b[43mnbextensions\u001b[49m\u001b[38;5;241m.\u001b[39minstall_nbextension(path \u001b[38;5;241m=\u001b[39m package_dir\u001b[38;5;241m+\u001b[39m\u001b[38;5;124m\"\u001b[39m\u001b[38;5;124m/vpython_data\u001b[39m\u001b[38;5;124m\"\u001b[39m,overwrite \u001b[38;5;241m=\u001b[39m \u001b[38;5;28;01mTrue\u001b[39;00m,user \u001b[38;5;241m=\u001b[39m \u001b[38;5;28;01mTrue\u001b[39;00m,verbose \u001b[38;5;241m=\u001b[39m \u001b[38;5;241m0\u001b[39m)\n\u001b[0;32m     81\u001b[0m     notebook\u001b[38;5;241m.\u001b[39mnbextensions\u001b[38;5;241m.\u001b[39minstall_nbextension(path \u001b[38;5;241m=\u001b[39m package_dir\u001b[38;5;241m+\u001b[39m\u001b[38;5;124m\"\u001b[39m\u001b[38;5;124m/vpython_libraries\u001b[39m\u001b[38;5;124m\"\u001b[39m,overwrite \u001b[38;5;241m=\u001b[39m \u001b[38;5;28;01mTrue\u001b[39;00m,user \u001b[38;5;241m=\u001b[39m \u001b[38;5;28;01mTrue\u001b[39;00m,verbose \u001b[38;5;241m=\u001b[39m \u001b[38;5;241m0\u001b[39m)\n\u001b[0;32m     83\u001b[0m     \u001b[38;5;66;03m# Wait for files to be transferred to nbextensions:\u001b[39;00m\n",
      "\u001b[1;31mAttributeError\u001b[0m: module 'notebook' has no attribute 'nbextensions'"
     ]
    }
   ],
   "source": [
    "# load a puzzle\n",
    "\n",
    "# add src to path\n",
    "import os, sys, inspect\n",
    "currentdir = os.path.dirname(os.path.abspath(inspect.getfile(inspect.currentframe())))\n",
    "parentdir = os.path.dirname(currentdir)\n",
    "parentdir = r\"C:\\Users\\basti\\Documents\\programming\\python\\Twisty_Puzzle_Program\"\n",
    "# parent2dir = os.path.dirname(parentdir)\n",
    "print(parentdir)\n",
    "sys.path.insert(0,parentdir)\n",
    "from src.puzzle_class import Twisty_Puzzle\n",
    "import src.algorithm_generation.algorithm_analysis as alg_ana\n",
    "\n",
    "# load puzzle\n",
    "puzzle_name: str = \"rubiks_3x3\"\n",
    "# puzzle_name: str = \"rubiks_2x2_ai\"\n",
    "# puzzle_name: str = \"rubiks_2x2\"\n",
    "# puzzle_name: str = \"skewb\"\n",
    "# puzzle_name: str = \"cube_4x4x4\"\n",
    "# puzzle_name: str = \"gear_cube\"\n",
    "# puzzle_name: str = \"geared_mixup\"\n",
    "puzzle: Twisty_Puzzle = Twisty_Puzzle()\n",
    "puzzle.load_puzzle(puzzle_name, show_3d_view=False)\n",
    "\n",
    "sympy_moves: dict[str, Permutation] = alg_ana.get_sympy_moves(puzzle)"
   ]
  },
  {
   "cell_type": "code",
   "execution_count": null,
   "metadata": {},
   "outputs": [],
   "source": []
  }
 ],
 "metadata": {
  "kernelspec": {
   "display_name": ".venv",
   "language": "python",
   "name": "python3"
  },
  "language_info": {
   "codemirror_mode": {
    "name": "ipython",
    "version": 3
   },
   "file_extension": ".py",
   "mimetype": "text/x-python",
   "name": "python",
   "nbconvert_exporter": "python",
   "pygments_lexer": "ipython3",
   "version": "3.11.3"
  }
 },
 "nbformat": 4,
 "nbformat_minor": 2
}
